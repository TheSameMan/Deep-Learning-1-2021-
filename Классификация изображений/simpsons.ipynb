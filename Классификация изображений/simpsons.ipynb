{
 "cells": [
  {
   "cell_type": "markdown",
   "metadata": {
    "id": "PEtYZjKidP3k"
   },
   "source": [
    "# The Simpsons\n",
    "![The Simpsons](https://upload.wikimedia.org/wikipedia/ru/4/42/Simpsons_cast.jpg)"
   ]
  },
  {
   "cell_type": "code",
   "execution_count": 1,
   "metadata": {
    "_cell_guid": "b1076dfc-b9ad-4769-8c92-a6c4dae69d19",
    "_uuid": "8f2839f25d086af736a60e9eeb907d3b93b6e0e5",
    "execution": {
     "iopub.execute_input": "2022-01-12T16:15:26.187908Z",
     "iopub.status.busy": "2022-01-12T16:15:26.187258Z",
     "iopub.status.idle": "2022-01-12T16:15:27.381137Z",
     "shell.execute_reply": "2022-01-12T16:15:27.380385Z",
     "shell.execute_reply.started": "2022-01-12T16:15:26.187795Z"
    },
    "id": "NNR49YCvdP3s"
   },
   "outputs": [],
   "source": [
    "import numpy as np\n",
    "import pandas as pd\n",
    "import torch\n",
    "import torch.nn as nn\n",
    "import torchvision\n",
    "import torchvision.transforms as tfs\n",
    "import matplotlib.pyplot as plt\n",
    "from tqdm.notebook import tqdm\n",
    "from sklearn.model_selection import train_test_split"
   ]
  },
  {
   "cell_type": "markdown",
   "metadata": {
    "id": "4wxy0YxKdP3u"
   },
   "source": [
    "# Load data"
   ]
  },
  {
   "cell_type": "code",
   "execution_count": 2,
   "metadata": {
    "execution": {
     "iopub.execute_input": "2022-01-12T16:15:32.835144Z",
     "iopub.status.busy": "2022-01-12T16:15:32.832531Z",
     "iopub.status.idle": "2022-01-12T16:15:32.874509Z",
     "shell.execute_reply": "2022-01-12T16:15:32.873425Z",
     "shell.execute_reply.started": "2022-01-12T16:15:32.835096Z"
    },
    "id": "hav61riQdP3w"
   },
   "outputs": [],
   "source": [
    "train_dir = '../input/journeyspringfield/journey-springfield/train/simpsons_dataset'\n",
    "test_dir = '../input/journeyspringfield/journey-springfield/testset'\n",
    "rescale_size = 244\n",
    "batch_size = 32\n",
    "\n",
    "device = torch.device('cuda' if torch.cuda.is_available() else 'cpu')"
   ]
  },
  {
   "cell_type": "code",
   "execution_count": 11,
   "metadata": {
    "execution": {
     "iopub.execute_input": "2022-01-12T16:43:40.256411Z",
     "iopub.status.busy": "2022-01-12T16:43:40.255875Z",
     "iopub.status.idle": "2022-01-12T16:43:41.475765Z",
     "shell.execute_reply": "2022-01-12T16:43:41.475053Z",
     "shell.execute_reply.started": "2022-01-12T16:43:40.256377Z"
    },
    "id": "fPZC3ttAdP3w"
   },
   "outputs": [],
   "source": [
    "transform = tfs.Compose([tfs.Resize((int(rescale_size * 1.25),\n",
    "                                     int(rescale_size * 1.25))),\n",
    "                         tfs.RandomCrop(rescale_size),\n",
    "                         tfs.RandomHorizontalFlip(),\n",
    "                         tfs.ToTensor(),\n",
    "                         tfs.Normalize([0.485, 0.456, 0.406],\n",
    "                                       [0.229, 0.224, 0.225])])\n",
    "\n",
    "full_dataset = torchvision.datasets.ImageFolder(root=train_dir,\n",
    "                                                transform=transform)\n",
    "\n",
    "transform = tfs.Compose([tfs.Resize((int(rescale_size * 1.05),\n",
    "                                     int(rescale_size * 1.05))),\n",
    "                         tfs.CenterCrop(rescale_size),\n",
    "                         tfs.ToTensor(),\n",
    "                         tfs.Normalize([0.485, 0.456, 0.406],\n",
    "                                       [0.229, 0.224, 0.225])])\n",
    "\n",
    "test_dataset = torchvision.datasets.ImageFolder(root=test_dir,\n",
    "                                                transform=transform)\n",
    "\n",
    "train_idx, valid_idx = train_test_split(list(range(len(full_dataset))),\n",
    "                                        train_size=0.8)\n",
    "dataset = {'train': torch.utils.data.Subset(full_dataset, train_idx),\n",
    "           'valid': torch.utils.data.Subset(full_dataset, valid_idx)}\n",
    "\n",
    "classes = np.array(full_dataset.classes)\n",
    "files = [x[0].split('/')[-1] for x in test_dataset.imgs]\n",
    "\n",
    "dataloader = {'train': torch.utils.data.DataLoader(dataset=dataset['train'],\n",
    "                                                   batch_size=batch_size,\n",
    "                                                   shuffle=True,\n",
    "                                                   num_workers=2),\n",
    "              'valid': torch.utils.data.DataLoader(dataset=dataset['valid'],\n",
    "                                                   batch_size=batch_size,\n",
    "                                                   shuffle=True,\n",
    "                                                   num_workers=2),\n",
    "              'test': torch.utils.data.DataLoader(dataset=test_dataset,\n",
    "                                                  shuffle=False,\n",
    "                                                  batch_size=batch_size,\n",
    "                                                  num_workers=2)}"
   ]
  },
  {
   "cell_type": "markdown",
   "metadata": {
    "id": "cwgGfNPldP32"
   },
   "source": [
    "# Fit functions"
   ]
  },
  {
   "cell_type": "code",
   "execution_count": 1,
   "metadata": {
    "execution": {
     "iopub.execute_input": "2022-01-12T17:17:49.382451Z",
     "iopub.status.busy": "2022-01-12T17:17:49.382182Z",
     "iopub.status.idle": "2022-01-12T17:17:49.394832Z",
     "shell.execute_reply": "2022-01-12T17:17:49.393807Z",
     "shell.execute_reply.started": "2022-01-12T17:17:49.382421Z"
    },
    "id": "sQRaQrw3dP32"
   },
   "outputs": [],
   "source": [
    "def train(model, criterion, optimizer, scheduler, epochs):\n",
    "    dataset_size = {ds: len(dataset[ds]) for ds in ['train', 'valid']}\n",
    "    losses = {'train': [], 'valid': []}\n",
    "    accuracies = {'train': [], 'valid': []}\n",
    "\n",
    "    best_weights = model.state_dict()\n",
    "    best_accuracy = 0.0\n",
    "\n",
    "    progress = tqdm(range(epochs), desc='Epoch:')\n",
    "    for epoch in progress:\n",
    "        for phase in ['train', 'valid']:\n",
    "            sum_loss = 0.0\n",
    "            sum_acc = 0\n",
    "            model.train(mode=(phase == 'train'))\n",
    "\n",
    "            for inputs, labels in tqdm(dataloader[phase],\n",
    "                                       desc=f'Phase {phase}:'):\n",
    "                inputs = inputs.to(device)\n",
    "                labels = labels.to(device)\n",
    "\n",
    "                if phase == 'train':\n",
    "                    optimizer.zero_grad()\n",
    "\n",
    "                    outp = model(inputs)\n",
    "                    loss = criterion(outp, labels)\n",
    "                    loss.backward()\n",
    "\n",
    "                    optimizer.step()\n",
    "                else:\n",
    "                    with torch.no_grad():\n",
    "                        outp = model(inputs)\n",
    "                        loss = criterion(outp, labels)\n",
    "\n",
    "                sum_loss += loss.item()\n",
    "                sum_acc += (torch.argmax(outp, -1) == labels.data).sum()\n",
    "\n",
    "            if scheduler and phase == 'train':\n",
    "                scheduler.step()\n",
    "\n",
    "            epoch_loss = sum_loss / dataset_size[phase]\n",
    "            epoch_accuracy = sum_acc / dataset_size[phase]\n",
    "            losses[phase].append(epoch_loss)\n",
    "            accuracies[phase].append(epoch_accuracy)\n",
    "\n",
    "            progress.set_description('loss: {:.4f}, acc: {:.4f}'\\\n",
    "                                     .format(epoch_loss, epoch_accuracy))\n",
    "\n",
    "            if phase == 'valid' and epoch_accuracy > best_accuracy:\n",
    "                best_accuracy = epoch_accuracy\n",
    "                best_weights = model.state_dict()\n",
    "    \n",
    "    model.load_state_dict(best_weights)\n",
    "    torch.save(model.state_dict(), 'best_model.pt')\n",
    "    return model, losses, accuracies"
   ]
  },
  {
   "cell_type": "code",
   "execution_count": 5,
   "metadata": {
    "execution": {
     "iopub.execute_input": "2022-01-12T16:15:45.374519Z",
     "iopub.status.busy": "2022-01-12T16:15:45.374011Z",
     "iopub.status.idle": "2022-01-12T16:15:45.380891Z",
     "shell.execute_reply": "2022-01-12T16:15:45.380053Z",
     "shell.execute_reply.started": "2022-01-12T16:15:45.374478Z"
    },
    "id": "Mm-oH_kQdP33"
   },
   "outputs": [],
   "source": [
    "def plot_metrics(losses, accuracies):\n",
    "    fig, axes = plt.subplots(1, 2, figsize=(20, 8))\n",
    "\n",
    "    axes[0].plot(losses['train'], label='train')\n",
    "    axes[0].plot(losses['valid'], label='valid')\n",
    "    axes[0].grid()\n",
    "    axes[0].legend()\n",
    "    axes[0].set_title('loss')\n",
    "\n",
    "    axes[1].plot(accuracies['train'], label='train')\n",
    "    axes[1].plot(accuracies['valid'], label='valid')\n",
    "    axes[1].grid()\n",
    "    axes[1].legend()\n",
    "    axes[1].set_title('accuracy')\n",
    "\n",
    "    plt.show()"
   ]
  },
  {
   "cell_type": "markdown",
   "metadata": {
    "id": "U-fODZKidP33"
   },
   "source": [
    "# Predict functions"
   ]
  },
  {
   "cell_type": "code",
   "execution_count": 16,
   "metadata": {
    "execution": {
     "iopub.execute_input": "2022-01-12T16:46:56.409765Z",
     "iopub.status.busy": "2022-01-12T16:46:56.409247Z",
     "iopub.status.idle": "2022-01-12T16:46:56.417158Z",
     "shell.execute_reply": "2022-01-12T16:46:56.416284Z",
     "shell.execute_reply.started": "2022-01-12T16:46:56.409726Z"
    },
    "id": "dh3hIujhdP34"
   },
   "outputs": [],
   "source": [
    "def predict(model, dataloader):\n",
    "    logits = []\n",
    "    model.eval()\n",
    "    with torch.no_grad():\n",
    "        for inputs, _ in tqdm(dataloader):\n",
    "            inputs = inputs.to(device)\n",
    "            outputs = model(inputs).cpu()\n",
    "            logits.append(outputs)\n",
    "    probs = nn.functional.softmax(torch.cat(logits), dim=-1).numpy()\n",
    "    return np.argmax(probs, axis=1)\n",
    "\n",
    "def create_submission(model, dataloader, files, classes):\n",
    "    preds = classes[predict(model, dataloader)]\n",
    "\n",
    "    path = '../input/journeyspringfield/journey-springfield/sample_submission.csv'\n",
    "    submission = pd.read_csv(path)\n",
    "    submission = pd.DataFrame({'Id': files,\n",
    "                               'Expected': preds}).sort_values('Id')\n",
    "    submission.to_csv('submission.csv', index=False)"
   ]
  },
  {
   "cell_type": "markdown",
   "metadata": {
    "id": "0tdF_wICdP34"
   },
   "source": [
    "# ResNet"
   ]
  },
  {
   "cell_type": "code",
   "execution_count": 21,
   "metadata": {
    "execution": {
     "iopub.execute_input": "2022-01-12T17:18:02.478709Z",
     "iopub.status.busy": "2022-01-12T17:18:02.478140Z",
     "iopub.status.idle": "2022-01-12T17:18:06.383186Z",
     "shell.execute_reply": "2022-01-12T17:18:06.382476Z",
     "shell.execute_reply.started": "2022-01-12T17:18:02.478671Z"
    },
    "id": "I6DSKPG-7vj6",
    "outputId": "3d246586-9e0f-4efd-cf6a-ba8395b7e7d8"
   },
   "outputs": [
    {
     "name": "stderr",
     "output_type": "stream",
     "text": [
      "Downloading: \"https://download.pytorch.org/models/resnet34-b627a593.pth\" to /root/.cache/torch/hub/checkpoints/resnet34-b627a593.pth\n"
     ]
    },
    {
     "data": {
      "application/vnd.jupyter.widget-view+json": {
       "model_id": "eb4be59df85f4f9c81683c6184233164",
       "version_major": 2,
       "version_minor": 0
      },
      "text/plain": [
       "  0%|          | 0.00/83.3M [00:00<?, ?B/s]"
      ]
     },
     "metadata": {},
     "output_type": "display_data"
    }
   ],
   "source": [
    "model = torchvision.models.resnet34(pretrained=True).to(device)\n",
    "\n",
    "num_in_features = 512\n",
    "num_out_features = len(full_dataset.classes)\n",
    "model.fc = nn.Linear(in_features=num_in_features,\n",
    "                     out_features=num_out_features,\n",
    "                     bias=True, device=device)"
   ]
  },
  {
   "cell_type": "code",
   "execution_count": 22,
   "metadata": {
    "execution": {
     "iopub.execute_input": "2022-01-12T17:18:08.573110Z",
     "iopub.status.busy": "2022-01-12T17:18:08.572716Z",
     "iopub.status.idle": "2022-01-12T17:41:14.111275Z",
     "shell.execute_reply": "2022-01-12T17:41:14.110371Z",
     "shell.execute_reply.started": "2022-01-12T17:18:08.573073Z"
    },
    "id": "TiT6nu2w83fj",
    "outputId": "6b780a25-f070-48f7-eb52-630aba6a433f"
   },
   "outputs": [
    {
     "data": {
      "application/vnd.jupyter.widget-view+json": {
       "model_id": "96a82bc98aa146d09e7e863a455b4338",
       "version_major": 2,
       "version_minor": 0
      },
      "text/plain": [
       "Epoch::   0%|          | 0/10 [00:00<?, ?it/s]"
      ]
     },
     "metadata": {},
     "output_type": "display_data"
    },
    {
     "data": {
      "application/vnd.jupyter.widget-view+json": {
       "model_id": "832e98a33be84d29bcdc5096f8c4a7e9",
       "version_major": 2,
       "version_minor": 0
      },
      "text/plain": [
       "Phase train::   0%|          | 0/524 [00:00<?, ?it/s]"
      ]
     },
     "metadata": {},
     "output_type": "display_data"
    },
    {
     "data": {
      "application/vnd.jupyter.widget-view+json": {
       "model_id": "feaef52922bc453bbf132d39a2dd2535",
       "version_major": 2,
       "version_minor": 0
      },
      "text/plain": [
       "Phase valid::   0%|          | 0/131 [00:00<?, ?it/s]"
      ]
     },
     "metadata": {},
     "output_type": "display_data"
    },
    {
     "data": {
      "application/vnd.jupyter.widget-view+json": {
       "model_id": "bc95987a49ed4792ba24ec1ca499974a",
       "version_major": 2,
       "version_minor": 0
      },
      "text/plain": [
       "Phase train::   0%|          | 0/524 [00:00<?, ?it/s]"
      ]
     },
     "metadata": {},
     "output_type": "display_data"
    },
    {
     "data": {
      "application/vnd.jupyter.widget-view+json": {
       "model_id": "64ec03e647f44404a1f1b91e8e26ad8c",
       "version_major": 2,
       "version_minor": 0
      },
      "text/plain": [
       "Phase valid::   0%|          | 0/131 [00:00<?, ?it/s]"
      ]
     },
     "metadata": {},
     "output_type": "display_data"
    },
    {
     "data": {
      "application/vnd.jupyter.widget-view+json": {
       "model_id": "42bf2b88a1fd4510948e42c0fc54f5f1",
       "version_major": 2,
       "version_minor": 0
      },
      "text/plain": [
       "Phase train::   0%|          | 0/524 [00:00<?, ?it/s]"
      ]
     },
     "metadata": {},
     "output_type": "display_data"
    },
    {
     "data": {
      "application/vnd.jupyter.widget-view+json": {
       "model_id": "8de191e6dc5f47b78555ba2c8a9a5cf2",
       "version_major": 2,
       "version_minor": 0
      },
      "text/plain": [
       "Phase valid::   0%|          | 0/131 [00:00<?, ?it/s]"
      ]
     },
     "metadata": {},
     "output_type": "display_data"
    },
    {
     "data": {
      "application/vnd.jupyter.widget-view+json": {
       "model_id": "d8e8482e84da4f0d8c031656eec98d11",
       "version_major": 2,
       "version_minor": 0
      },
      "text/plain": [
       "Phase train::   0%|          | 0/524 [00:00<?, ?it/s]"
      ]
     },
     "metadata": {},
     "output_type": "display_data"
    },
    {
     "data": {
      "application/vnd.jupyter.widget-view+json": {
       "model_id": "02741d5652aa495b9abb7555498609e8",
       "version_major": 2,
       "version_minor": 0
      },
      "text/plain": [
       "Phase valid::   0%|          | 0/131 [00:00<?, ?it/s]"
      ]
     },
     "metadata": {},
     "output_type": "display_data"
    },
    {
     "data": {
      "application/vnd.jupyter.widget-view+json": {
       "model_id": "29ca8af459c148d59e33a1f972f9a93d",
       "version_major": 2,
       "version_minor": 0
      },
      "text/plain": [
       "Phase train::   0%|          | 0/524 [00:00<?, ?it/s]"
      ]
     },
     "metadata": {},
     "output_type": "display_data"
    },
    {
     "data": {
      "application/vnd.jupyter.widget-view+json": {
       "model_id": "54c13f54431b4fc88b604918cb0fea27",
       "version_major": 2,
       "version_minor": 0
      },
      "text/plain": [
       "Phase valid::   0%|          | 0/131 [00:00<?, ?it/s]"
      ]
     },
     "metadata": {},
     "output_type": "display_data"
    },
    {
     "data": {
      "application/vnd.jupyter.widget-view+json": {
       "model_id": "54d3e56046d34dab8e796561e1fe28f5",
       "version_major": 2,
       "version_minor": 0
      },
      "text/plain": [
       "Phase train::   0%|          | 0/524 [00:00<?, ?it/s]"
      ]
     },
     "metadata": {},
     "output_type": "display_data"
    },
    {
     "data": {
      "application/vnd.jupyter.widget-view+json": {
       "model_id": "6794214191d54de0ab00ca213b8b95ce",
       "version_major": 2,
       "version_minor": 0
      },
      "text/plain": [
       "Phase valid::   0%|          | 0/131 [00:00<?, ?it/s]"
      ]
     },
     "metadata": {},
     "output_type": "display_data"
    },
    {
     "data": {
      "application/vnd.jupyter.widget-view+json": {
       "model_id": "da6482e3d92b459c83587dd0747953b8",
       "version_major": 2,
       "version_minor": 0
      },
      "text/plain": [
       "Phase train::   0%|          | 0/524 [00:00<?, ?it/s]"
      ]
     },
     "metadata": {},
     "output_type": "display_data"
    },
    {
     "data": {
      "application/vnd.jupyter.widget-view+json": {
       "model_id": "9bd77583cecd492db240f2ed9dcf94f0",
       "version_major": 2,
       "version_minor": 0
      },
      "text/plain": [
       "Phase valid::   0%|          | 0/131 [00:00<?, ?it/s]"
      ]
     },
     "metadata": {},
     "output_type": "display_data"
    },
    {
     "data": {
      "application/vnd.jupyter.widget-view+json": {
       "model_id": "1b76bf8966db4699a6a8f30f0bc6f1d2",
       "version_major": 2,
       "version_minor": 0
      },
      "text/plain": [
       "Phase train::   0%|          | 0/524 [00:00<?, ?it/s]"
      ]
     },
     "metadata": {},
     "output_type": "display_data"
    },
    {
     "data": {
      "application/vnd.jupyter.widget-view+json": {
       "model_id": "3170322e6ed242b49a0126e96d7fe025",
       "version_major": 2,
       "version_minor": 0
      },
      "text/plain": [
       "Phase valid::   0%|          | 0/131 [00:00<?, ?it/s]"
      ]
     },
     "metadata": {},
     "output_type": "display_data"
    },
    {
     "data": {
      "application/vnd.jupyter.widget-view+json": {
       "model_id": "d5ea795bfa494f188c026b436ddb7253",
       "version_major": 2,
       "version_minor": 0
      },
      "text/plain": [
       "Phase train::   0%|          | 0/524 [00:00<?, ?it/s]"
      ]
     },
     "metadata": {},
     "output_type": "display_data"
    },
    {
     "data": {
      "application/vnd.jupyter.widget-view+json": {
       "model_id": "33c8d4025dfb4f13b967d957399c2f88",
       "version_major": 2,
       "version_minor": 0
      },
      "text/plain": [
       "Phase valid::   0%|          | 0/131 [00:00<?, ?it/s]"
      ]
     },
     "metadata": {},
     "output_type": "display_data"
    },
    {
     "data": {
      "application/vnd.jupyter.widget-view+json": {
       "model_id": "f9fa7afda8864424a386377f4a3e877d",
       "version_major": 2,
       "version_minor": 0
      },
      "text/plain": [
       "Phase train::   0%|          | 0/524 [00:00<?, ?it/s]"
      ]
     },
     "metadata": {},
     "output_type": "display_data"
    },
    {
     "data": {
      "application/vnd.jupyter.widget-view+json": {
       "model_id": "14737c513ea7488eaaf3023f0d1a15c9",
       "version_major": 2,
       "version_minor": 0
      },
      "text/plain": [
       "Phase valid::   0%|          | 0/131 [00:00<?, ?it/s]"
      ]
     },
     "metadata": {},
     "output_type": "display_data"
    }
   ],
   "source": [
    "loss = torch.nn.CrossEntropyLoss()\n",
    "optimizer = torch.optim.AdamW(model.parameters(), lr=1e-3)\n",
    "scheduler = torch.optim.lr_scheduler.StepLR(optimizer, step_size=7, gamma=0.1)\n",
    "model, losses, accuracies = train(model, loss, optimizer, scheduler,\n",
    "                                  epochs=10)"
   ]
  },
  {
   "cell_type": "code",
   "execution_count": 23,
   "metadata": {
    "execution": {
     "iopub.execute_input": "2022-01-12T17:41:43.481674Z",
     "iopub.status.busy": "2022-01-12T17:41:43.481385Z",
     "iopub.status.idle": "2022-01-12T17:41:43.829857Z",
     "shell.execute_reply": "2022-01-12T17:41:43.829181Z",
     "shell.execute_reply.started": "2022-01-12T17:41:43.481641Z"
    },
    "id": "Qrhb-GovEBf9",
    "outputId": "3290e071-f54a-4605-819d-949451787620"
   },
   "outputs": [
    {
     "data": {
      "image/png": "[encoded data removed]",
      "text/plain": [
       "<Figure size 1440x576 with 2 Axes>"
      ]
     },
     "metadata": {
      "needs_background": "light"
     },
     "output_type": "display_data"
    }
   ],
   "source": [
    "plot_metrics(losses, accuracies)"
   ]
  },
  {
   "cell_type": "code",
   "execution_count": 24,
   "metadata": {
    "execution": {
     "iopub.execute_input": "2022-01-12T17:41:50.796068Z",
     "iopub.status.busy": "2022-01-12T17:41:50.795359Z",
     "iopub.status.idle": "2022-01-12T17:41:54.545344Z",
     "shell.execute_reply": "2022-01-12T17:41:54.544579Z",
     "shell.execute_reply.started": "2022-01-12T17:41:50.796030Z"
    },
    "id": "3CjDpM7uqI82",
    "outputId": "9b3e3c8a-31c0-4478-fcca-4726cb24cab4"
   },
   "outputs": [
    {
     "data": {
      "application/vnd.jupyter.widget-view+json": {
       "model_id": "5913274413984caebee4d117436e29de",
       "version_major": 2,
       "version_minor": 0
      },
      "text/plain": [
       "  0%|          | 0/31 [00:00<?, ?it/s]"
      ]
     },
     "metadata": {},
     "output_type": "display_data"
    }
   ],
   "source": [
    "create_submission(model, dataloader['test'], files, classes)"
   ]
  },
  {
   "cell_type": "markdown",
   "metadata": {
    "id": "-BCxTj1cmJlv"
   },
   "source": [
    "# EfficientNet"
   ]
  },
  {
   "cell_type": "code",
   "execution_count": 25,
   "metadata": {
    "execution": {
     "iopub.execute_input": "2022-01-12T17:45:38.705865Z",
     "iopub.status.busy": "2022-01-12T17:45:38.705036Z",
     "iopub.status.idle": "2022-01-12T17:45:38.887193Z",
     "shell.execute_reply": "2022-01-12T17:45:38.886443Z",
     "shell.execute_reply.started": "2022-01-12T17:45:38.705816Z"
    },
    "id": "_X2mo3oqmHSD",
    "outputId": "dcf4ee85-1738-4652-e725-e42828929821"
   },
   "outputs": [],
   "source": [
    "model = torchvision.models.efficientnet_b0(pretrained=True)\n",
    "model.classifier[1] = nn.Linear(model.classifier[1].in_features,\n",
    "                                len(full_dataset.classes))\n",
    "model = model.to(device)"
   ]
  },
  {
   "cell_type": "code",
   "execution_count": 26,
   "metadata": {
    "execution": {
     "iopub.execute_input": "2022-01-12T17:46:01.382907Z",
     "iopub.status.busy": "2022-01-12T17:46:01.382625Z",
     "iopub.status.idle": "2022-01-12T18:10:37.073722Z",
     "shell.execute_reply": "2022-01-12T18:10:37.072912Z",
     "shell.execute_reply.started": "2022-01-12T17:46:01.382873Z"
    }
   },
   "outputs": [
    {
     "data": {
      "application/vnd.jupyter.widget-view+json": {
       "model_id": "2f84fe8a611b400392f12cc1e0801034",
       "version_major": 2,
       "version_minor": 0
      },
      "text/plain": [
       "Epoch::   0%|          | 0/10 [00:00<?, ?it/s]"
      ]
     },
     "metadata": {},
     "output_type": "display_data"
    },
    {
     "data": {
      "application/vnd.jupyter.widget-view+json": {
       "model_id": "bcb6720fea2f47c1b99187f23b178856",
       "version_major": 2,
       "version_minor": 0
      },
      "text/plain": [
       "Phase train::   0%|          | 0/524 [00:00<?, ?it/s]"
      ]
     },
     "metadata": {},
     "output_type": "display_data"
    },
    {
     "data": {
      "application/vnd.jupyter.widget-view+json": {
       "model_id": "1c85fc8ac1b643a5b77995db7239e2a4",
       "version_major": 2,
       "version_minor": 0
      },
      "text/plain": [
       "Phase valid::   0%|          | 0/131 [00:00<?, ?it/s]"
      ]
     },
     "metadata": {},
     "output_type": "display_data"
    },
    {
     "data": {
      "application/vnd.jupyter.widget-view+json": {
       "model_id": "85231a95bb964379a2b1ef5a4622158f",
       "version_major": 2,
       "version_minor": 0
      },
      "text/plain": [
       "Phase train::   0%|          | 0/524 [00:00<?, ?it/s]"
      ]
     },
     "metadata": {},
     "output_type": "display_data"
    },
    {
     "data": {
      "application/vnd.jupyter.widget-view+json": {
       "model_id": "0e2093c7541b48869d66ea7e1be4a7e1",
       "version_major": 2,
       "version_minor": 0
      },
      "text/plain": [
       "Phase valid::   0%|          | 0/131 [00:00<?, ?it/s]"
      ]
     },
     "metadata": {},
     "output_type": "display_data"
    },
    {
     "data": {
      "application/vnd.jupyter.widget-view+json": {
       "model_id": "63bfd2f26bcd420e97a16bf7947dcabc",
       "version_major": 2,
       "version_minor": 0
      },
      "text/plain": [
       "Phase train::   0%|          | 0/524 [00:00<?, ?it/s]"
      ]
     },
     "metadata": {},
     "output_type": "display_data"
    },
    {
     "data": {
      "application/vnd.jupyter.widget-view+json": {
       "model_id": "aea8341f4f6947d484c4ead5967aa69a",
       "version_major": 2,
       "version_minor": 0
      },
      "text/plain": [
       "Phase valid::   0%|          | 0/131 [00:00<?, ?it/s]"
      ]
     },
     "metadata": {},
     "output_type": "display_data"
    },
    {
     "data": {
      "application/vnd.jupyter.widget-view+json": {
       "model_id": "043b1ea2d82e42709b7757b40d4f14e7",
       "version_major": 2,
       "version_minor": 0
      },
      "text/plain": [
       "Phase train::   0%|          | 0/524 [00:00<?, ?it/s]"
      ]
     },
     "metadata": {},
     "output_type": "display_data"
    },
    {
     "data": {
      "application/vnd.jupyter.widget-view+json": {
       "model_id": "5527db51bb9d488788ceca00ec3a9826",
       "version_major": 2,
       "version_minor": 0
      },
      "text/plain": [
       "Phase valid::   0%|          | 0/131 [00:00<?, ?it/s]"
      ]
     },
     "metadata": {},
     "output_type": "display_data"
    },
    {
     "data": {
      "application/vnd.jupyter.widget-view+json": {
       "model_id": "2428d17b2b9f4290a3ba7660f4f8a820",
       "version_major": 2,
       "version_minor": 0
      },
      "text/plain": [
       "Phase train::   0%|          | 0/524 [00:00<?, ?it/s]"
      ]
     },
     "metadata": {},
     "output_type": "display_data"
    },
    {
     "data": {
      "application/vnd.jupyter.widget-view+json": {
       "model_id": "33f359baed954c568ea0b5f9c62cb8bf",
       "version_major": 2,
       "version_minor": 0
      },
      "text/plain": [
       "Phase valid::   0%|          | 0/131 [00:00<?, ?it/s]"
      ]
     },
     "metadata": {},
     "output_type": "display_data"
    },
    {
     "data": {
      "application/vnd.jupyter.widget-view+json": {
       "model_id": "844f09db7982495f967bee6573d9f300",
       "version_major": 2,
       "version_minor": 0
      },
      "text/plain": [
       "Phase train::   0%|          | 0/524 [00:00<?, ?it/s]"
      ]
     },
     "metadata": {},
     "output_type": "display_data"
    },
    {
     "data": {
      "application/vnd.jupyter.widget-view+json": {
       "model_id": "44f4086410424f519e76744e2b89c7c1",
       "version_major": 2,
       "version_minor": 0
      },
      "text/plain": [
       "Phase valid::   0%|          | 0/131 [00:00<?, ?it/s]"
      ]
     },
     "metadata": {},
     "output_type": "display_data"
    },
    {
     "data": {
      "application/vnd.jupyter.widget-view+json": {
       "model_id": "2e645c5d70b6422b83eea3319dcc3c02",
       "version_major": 2,
       "version_minor": 0
      },
      "text/plain": [
       "Phase train::   0%|          | 0/524 [00:00<?, ?it/s]"
      ]
     },
     "metadata": {},
     "output_type": "display_data"
    },
    {
     "data": {
      "application/vnd.jupyter.widget-view+json": {
       "model_id": "14b3fa3ce480468ba6a7277762b2d9e6",
       "version_major": 2,
       "version_minor": 0
      },
      "text/plain": [
       "Phase valid::   0%|          | 0/131 [00:00<?, ?it/s]"
      ]
     },
     "metadata": {},
     "output_type": "display_data"
    },
    {
     "data": {
      "application/vnd.jupyter.widget-view+json": {
       "model_id": "275f1bef0b0541dea5f4b721552d6dc8",
       "version_major": 2,
       "version_minor": 0
      },
      "text/plain": [
       "Phase train::   0%|          | 0/524 [00:00<?, ?it/s]"
      ]
     },
     "metadata": {},
     "output_type": "display_data"
    },
    {
     "data": {
      "application/vnd.jupyter.widget-view+json": {
       "model_id": "3486a9bf1258478e98f46b772c07ebfb",
       "version_major": 2,
       "version_minor": 0
      },
      "text/plain": [
       "Phase valid::   0%|          | 0/131 [00:00<?, ?it/s]"
      ]
     },
     "metadata": {},
     "output_type": "display_data"
    },
    {
     "data": {
      "application/vnd.jupyter.widget-view+json": {
       "model_id": "ffe7b6de1ca841fb8c18daf75eb2acfd",
       "version_major": 2,
       "version_minor": 0
      },
      "text/plain": [
       "Phase train::   0%|          | 0/524 [00:00<?, ?it/s]"
      ]
     },
     "metadata": {},
     "output_type": "display_data"
    },
    {
     "data": {
      "application/vnd.jupyter.widget-view+json": {
       "model_id": "594cd97004d74cb2bc14b36025637552",
       "version_major": 2,
       "version_minor": 0
      },
      "text/plain": [
       "Phase valid::   0%|          | 0/131 [00:00<?, ?it/s]"
      ]
     },
     "metadata": {},
     "output_type": "display_data"
    },
    {
     "data": {
      "application/vnd.jupyter.widget-view+json": {
       "model_id": "bc63b120eb424accb65c852ac29bd367",
       "version_major": 2,
       "version_minor": 0
      },
      "text/plain": [
       "Phase train::   0%|          | 0/524 [00:00<?, ?it/s]"
      ]
     },
     "metadata": {},
     "output_type": "display_data"
    },
    {
     "data": {
      "application/vnd.jupyter.widget-view+json": {
       "model_id": "b2af6835a38e4f0489aca56211eaba46",
       "version_major": 2,
       "version_minor": 0
      },
      "text/plain": [
       "Phase valid::   0%|          | 0/131 [00:00<?, ?it/s]"
      ]
     },
     "metadata": {},
     "output_type": "display_data"
    }
   ],
   "source": [
    "loss = torch.nn.CrossEntropyLoss()\n",
    "optimizer = torch.optim.AdamW(model.parameters(), lr=1e-3)\n",
    "scheduler = torch.optim.lr_scheduler.StepLR(optimizer, step_size=7, gamma=0.1)\n",
    "model, losses, accuracies = train(model, loss, optimizer, epochs=10,\n",
    "                                  scheduler=scheduler)"
   ]
  },
  {
   "cell_type": "code",
   "execution_count": 27,
   "metadata": {
    "execution": {
     "iopub.execute_input": "2022-01-12T18:15:47.545935Z",
     "iopub.status.busy": "2022-01-12T18:15:47.545596Z",
     "iopub.status.idle": "2022-01-12T18:15:47.921399Z",
     "shell.execute_reply": "2022-01-12T18:15:47.920715Z",
     "shell.execute_reply.started": "2022-01-12T18:15:47.545895Z"
    },
    "id": "xb6wNNzcuJnq",
    "outputId": "94dd5e2f-eea3-4e60-cd89-4fc779db77c8"
   },
   "outputs": [
    {
     "data": {
      "image/png": "[encoded data removed]",
      "text/plain": [
       "<Figure size 1440x576 with 2 Axes>"
      ]
     },
     "metadata": {
      "needs_background": "light"
     },
     "output_type": "display_data"
    }
   ],
   "source": [
    "plot_metrics(losses, accuracies)"
   ]
  },
  {
   "cell_type": "code",
   "execution_count": 28,
   "metadata": {
    "execution": {
     "iopub.execute_input": "2022-01-12T18:16:13.192998Z",
     "iopub.status.busy": "2022-01-12T18:16:13.192639Z",
     "iopub.status.idle": "2022-01-12T18:16:16.916370Z",
     "shell.execute_reply": "2022-01-12T18:16:16.915578Z",
     "shell.execute_reply.started": "2022-01-12T18:16:13.192954Z"
    },
    "id": "NN1c9nSIZhw0",
    "outputId": "44ea3599-8406-461e-8d0c-0b0e27244b08"
   },
   "outputs": [
    {
     "data": {
      "application/vnd.jupyter.widget-view+json": {
       "model_id": "614c86366f1b49419f60529387b0718f",
       "version_major": 2,
       "version_minor": 0
      },
      "text/plain": [
       "  0%|          | 0/31 [00:00<?, ?it/s]"
      ]
     },
     "metadata": {},
     "output_type": "display_data"
    }
   ],
   "source": [
    "create_submission(model, dataloader['test'], files, classes)"
   ]
  },
  {
   "cell_type": "markdown",
   "metadata": {},
   "source": [
    "# Kaggle"
   ]
  },
  {
   "cell_type": "markdown",
   "metadata": {},
   "source": [
    "368\tТарас_Михайлюк_287328882 0.99362"
   ]
  }
 ],
 "metadata": {
  "kernelspec": {
   "display_name": "Python 3 (ipykernel)",
   "language": "python",
   "name": "python3"
  },
  "language_info": {
   "codemirror_mode": {
    "name": "ipython",
    "version": 3
   },
   "file_extension": ".py",
   "mimetype": "text/x-python",
   "name": "python",
   "nbconvert_exporter": "python",
   "pygments_lexer": "ipython3",
   "version": "3.9.7"
  },
  "toc": {
   "base_numbering": 1,
   "nav_menu": {},
   "number_sections": true,
   "sideBar": true,
   "skip_h1_title": false,
   "title_cell": "Table of Contents",
   "title_sidebar": "Contents",
   "toc_cell": false,
   "toc_position": {},
   "toc_section_display": true,
   "toc_window_display": false
  }
 },
 "nbformat": 4,
 "nbformat_minor": 4
}
